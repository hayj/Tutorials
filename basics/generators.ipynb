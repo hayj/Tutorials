{
 "cells": [
  {
   "cell_type": "markdown",
   "metadata": {},
   "source": [
    "Deprecated --> need an update........"
   ]
  },
  {
   "cell_type": "markdown",
   "metadata": {},
   "source": [
    "# What are generators and iterators in Python ?"
   ]
  },
  {
   "cell_type": "markdown",
   "metadata": {},
   "source": [
    " > Why do I want iterators/generators, why not use lists? - because I can process data that is too big for memory.\n",
    "\n",
    "Source: <https://www.reddit.com/r/Python/comments/40idba/easy_way_to_make_an_iterator_from_a_generator_in/>"
   ]
  },
  {
   "cell_type": "markdown",
   "metadata": {},
   "source": [
    "An iterator is a class which implements `__next__`. An iterable is a class which implements `__getitem__`. Source <https://stackoverflow.com/questions/9884132/what-exactly-are-iterator-iterable-and-iteration>."
   ]
  },
  {
   "cell_type": "markdown",
   "metadata": {},
   "source": [
    " * **A generator** is a function or a class method which yields items (indefinitely or not).\n",
    " * **An iterator** is a class which implements `__iter__` and `__next__`. `__iter__` must return a generator which yield items and `__next__` must return an item (and others at each call)."
   ]
  },
  {
   "cell_type": "markdown",
   "metadata": {},
   "source": [
    "There are also iterable which implements `__getitem__` and `__len__`"
   ]
  },
  {
   "cell_type": "markdown",
   "metadata": {},
   "source": [
    "TODO An iterator and its `__next__` method is automatically used as a generator when the `__iter__` method is called."
   ]
  },
  {
   "cell_type": "markdown",
   "metadata": {},
   "source": [
    "TODO https://stackoverflow.com/questions/9884132/what-exactly-are-iterator-iterable-and-iteration"
   ]
  },
  {
   "cell_type": "markdown",
   "metadata": {},
   "source": [
    "TODO https://www.quora.com/Whats-the-difference-between-iterators-and-generators-in-Python"
   ]
  },
  {
   "cell_type": "markdown",
   "metadata": {},
   "source": [
    "## Generators"
   ]
  },
  {
   "cell_type": "markdown",
   "metadata": {},
   "source": [
    "We define a simple generator (a function which yield elements):"
   ]
  },
  {
   "cell_type": "code",
   "execution_count": 1,
   "metadata": {},
   "outputs": [],
   "source": [
    "def my_generator():\n",
    "    for i in range(3):\n",
    "        yield i"
   ]
  },
  {
   "cell_type": "markdown",
   "metadata": {},
   "source": [
    "When calling this function, the generator will return several values and continue until it will reach the end. We can iterate it, either using a for loop:"
   ]
  },
  {
   "cell_type": "code",
   "execution_count": 2,
   "metadata": {},
   "outputs": [
    {
     "name": "stdout",
     "output_type": "stream",
     "text": [
      "0\n",
      "1\n",
      "2\n"
     ]
    }
   ],
   "source": [
    "items = my_generator()\n",
    "for item in items:\n",
    "    print(item)"
   ]
  },
  {
   "cell_type": "markdown",
   "metadata": {},
   "source": [
    "Or using the next function:"
   ]
  },
  {
   "cell_type": "code",
   "execution_count": 3,
   "metadata": {},
   "outputs": [
    {
     "name": "stdout",
     "output_type": "stream",
     "text": [
      "0\n",
      "1\n",
      "2\n"
     ]
    }
   ],
   "source": [
    "items = my_generator()\n",
    "hasMoreItems = True\n",
    "while hasMoreItems:\n",
    "    try:\n",
    "        item = next(items)\n",
    "        print(item)\n",
    "    except StopIteration:\n",
    "        hasMoreItems = False"
   ]
  },
  {
   "cell_type": "markdown",
   "metadata": {},
   "source": [
    "In that case we see the value of the `yield` statement: the generator funct will stop at each `yield` until `next` is called by the user (it can take a long time between each `next` call, so all items wait to be generated on-the-fly)."
   ]
  },
  {
   "cell_type": "markdown",
   "metadata": {},
   "source": [
    "This way to iterate the generator (using the `next` call) is useful in cases you want to get next items at very specifics steps. For example if you need next items only when you receive a specific request and if this request contains the specific word \"a\": you just need to keep the `items` instance of the generator and call the next item when necessary."
   ]
  },
  {
   "cell_type": "markdown",
   "metadata": {},
   "source": [
    "## Iterators"
   ]
  },
  {
   "cell_type": "markdown",
   "metadata": {},
   "source": [
    "We define an iterator class which only need to implement the `__iter__` and `__next__` methods:"
   ]
  },
  {
   "cell_type": "code",
   "execution_count": 4,
   "metadata": {},
   "outputs": [],
   "source": [
    "class MyIterator:\n",
    "    def __init__(self):\n",
    "        self.current = -1\n",
    "        self.maximum = 2\n",
    "    def __iter__(self):\n",
    "        return self\n",
    "    def __next__(self): # next(self) in Python 2\n",
    "        if self.current >= self.maximum:\n",
    "            raise StopIteration\n",
    "        else:\n",
    "            self.current += 1\n",
    "            return self.current"
   ]
  },
  {
   "cell_type": "markdown",
   "metadata": {},
   "source": [
    "The class doesn't yield anything but return the next item each time the user of an instance of this class call the `__next__` method. An iterator class is usefull when you need to **provide specific methods** like `def get_current(self): return self.current`."
   ]
  },
  {
   "cell_type": "markdown",
   "metadata": {},
   "source": [
    "And we iterate it the same way:"
   ]
  },
  {
   "cell_type": "code",
   "execution_count": 5,
   "metadata": {},
   "outputs": [
    {
     "name": "stdout",
     "output_type": "stream",
     "text": [
      "0\n",
      "1\n",
      "2\n",
      "0\n",
      "1\n",
      "2\n"
     ]
    }
   ],
   "source": [
    "# Using a for loop:\n",
    "items = MyIterator()\n",
    "for item in items:\n",
    "    print(item)\n",
    "# Using the next function:\n",
    "items = MyIterator()\n",
    "hasMoreItems = True\n",
    "while hasMoreItems:\n",
    "    try:\n",
    "        item = next(items)\n",
    "        print(item)\n",
    "    except StopIteration:\n",
    "        hasMoreItems = False"
   ]
  },
  {
   "cell_type": "markdown",
   "metadata": {},
   "source": [
    "## More explanations"
   ]
  },
  {
   "cell_type": "markdown",
   "metadata": {},
   "source": [
    "Generators and iterators are usefull to have a lazy list of items, which mean each item is generated and returned on-the-fly only when the user need it. If you have an infinite list of items, you no more need to generate it before. The value of genetors/iterators is they works like a Python list in a for loop. An other advantage is that if you need to generate items, you can just define a generator and use the `yield` statement instead of storing each item in a list and return it at the very end of the function. In the case of an iterator, it is even more relevant when you need to interact with the iterator during the generation of items (this can be done using the \"next\" iteration way)."
   ]
  },
  {
   "cell_type": "markdown",
   "metadata": {},
   "source": [
    "## Convert a generator to a list"
   ]
  },
  {
   "cell_type": "markdown",
   "metadata": {},
   "source": [
    "You basicaly cannot access to specific items without iterate a generator (or an iterator):"
   ]
  },
  {
   "cell_type": "code",
   "execution_count": 6,
   "metadata": {},
   "outputs": [
    {
     "ename": "TypeError",
     "evalue": "'generator' object is not subscriptable",
     "output_type": "error",
     "traceback": [
      "\u001b[0;31m---------------------------------------------------------------------------\u001b[0m",
      "\u001b[0;31mTypeError\u001b[0m                                 Traceback (most recent call last)",
      "\u001b[0;32m<ipython-input-6-bb3d7bf11f41>\u001b[0m in \u001b[0;36m<module>\u001b[0;34m()\u001b[0m\n\u001b[1;32m      1\u001b[0m \u001b[0mitems\u001b[0m \u001b[0;34m=\u001b[0m \u001b[0mmy_generator\u001b[0m\u001b[0;34m(\u001b[0m\u001b[0;34m)\u001b[0m\u001b[0;34m\u001b[0m\u001b[0m\n\u001b[0;32m----> 2\u001b[0;31m \u001b[0mprint\u001b[0m\u001b[0;34m(\u001b[0m\u001b[0mitems\u001b[0m\u001b[0;34m[\u001b[0m\u001b[0;36m1\u001b[0m\u001b[0;34m]\u001b[0m\u001b[0;34m)\u001b[0m\u001b[0;34m\u001b[0m\u001b[0m\n\u001b[0m",
      "\u001b[0;31mTypeError\u001b[0m: 'generator' object is not subscriptable"
     ]
    }
   ],
   "source": [
    "items = my_generator()\n",
    "print(items[1])"
   ]
  },
  {
   "cell_type": "markdown",
   "metadata": {},
   "source": [
    "But you can cast the generator instance to a list:"
   ]
  },
  {
   "cell_type": "code",
   "execution_count": 7,
   "metadata": {},
   "outputs": [
    {
     "name": "stdout",
     "output_type": "stream",
     "text": [
      "1\n"
     ]
    }
   ],
   "source": [
    "items = list(my_generator())\n",
    "print(items[1])"
   ]
  },
  {
   "cell_type": "markdown",
   "metadata": {},
   "source": [
    "The problem is that the cast will consum all items, which can **take a long time** (depending on your items generation behind) and **maybe doesn't fit in RAM** (in case the total weight or your items is > 50Go for example)."
   ]
  },
  {
   "cell_type": "markdown",
   "metadata": {},
   "source": [
    "## We cannot iterate several times"
   ]
  },
  {
   "cell_type": "markdown",
   "metadata": {},
   "source": [
    "If you try to **iterate several time** a generator (or an iterator) instance, you will get only one batch of items:"
   ]
  },
  {
   "cell_type": "code",
   "execution_count": 8,
   "metadata": {},
   "outputs": [
    {
     "name": "stdout",
     "output_type": "stream",
     "text": [
      "0\n",
      "1\n",
      "2\n"
     ]
    }
   ],
   "source": [
    "items = my_generator()\n",
    "for i in items: print(i)\n",
    "for i in items: print(i)"
   ]
  },
  {
   "cell_type": "markdown",
   "metadata": {},
   "source": [
    "The same for the iterator:"
   ]
  },
  {
   "cell_type": "code",
   "execution_count": 9,
   "metadata": {},
   "outputs": [
    {
     "name": "stdout",
     "output_type": "stream",
     "text": [
      "0\n",
      "1\n",
      "2\n"
     ]
    }
   ],
   "source": [
    "items = MyIterator()\n",
    "for i in items: print(i)\n",
    "for i in items: print(i)"
   ]
  },
  {
   "cell_type": "markdown",
   "metadata": {},
   "source": [
    "The solution is **use the generator function** (or the iterator init) instead of the instance:"
   ]
  },
  {
   "cell_type": "code",
   "execution_count": 10,
   "metadata": {},
   "outputs": [
    {
     "name": "stdout",
     "output_type": "stream",
     "text": [
      "0\n",
      "1\n",
      "2\n",
      "0\n",
      "1\n",
      "2\n"
     ]
    }
   ],
   "source": [
    "for i in my_generator(): print(i)\n",
    "for i in my_generator(): print(i)"
   ]
  },
  {
   "cell_type": "markdown",
   "metadata": {},
   "source": [
    "But imagine you need to **give your generator to a specific function** (from a specific library) which need to **pass several times over all items**. Most libraries take a generator instance (not the generator function itself), so it won't work in that case. For instance, [Doc2Vec from Gensim](https://radimrehurek.com/gensim/models/doc2vec.html) init take `documents` which is an iterable. If you stream your documents from disk, your genererator need to be multi-iterable for the algorithm to pass all docs several times. Moreover, imagine your generator take parameters:"
   ]
  },
  {
   "cell_type": "code",
   "execution_count": 11,
   "metadata": {},
   "outputs": [],
   "source": [
    "def my_generator2(start, nbItems=10):\n",
    "    for i in range(start, start + nbItems):\n",
    "        yield i"
   ]
  },
  {
   "cell_type": "markdown",
   "metadata": {},
   "source": [
    "All instances of your generator will be **specific to the params you give**: `items = my_generator2(100)`, `items = my_generator2(200)`... The solution is to **wrap your generator** or iterator in a iterator class which will retain args and kwargs. Here the class I use:"
   ]
  },
  {
   "cell_type": "code",
   "execution_count": 12,
   "metadata": {},
   "outputs": [],
   "source": [
    "class AgainAndAgain():\n",
    "    def __init__(self, generator_func, *args, **kwargs):\n",
    "        self.generator_func = generator_func\n",
    "        self.args = args\n",
    "        self.kwargs = kwargs\n",
    "    def __iter__(self):\n",
    "        return self.generator_func(*self.args, **self.kwargs)"
   ]
  },
  {
   "cell_type": "markdown",
   "metadata": {},
   "source": [
    "Source: <https://www.reddit.com/r/Python/comments/40idba/easy_way_to_make_an_iterator_from_a_generator_in/>"
   ]
  },
  {
   "cell_type": "markdown",
   "metadata": {},
   "source": [
    "Now you can make any generator and iterator **multi-iterable** by giving the generator funct (or iterator class) and all args/kwargs:"
   ]
  },
  {
   "cell_type": "code",
   "execution_count": 13,
   "metadata": {},
   "outputs": [
    {
     "name": "stdout",
     "output_type": "stream",
     "text": [
      "100\n",
      "101\n",
      "102\n",
      "100\n",
      "101\n",
      "102\n"
     ]
    }
   ],
   "source": [
    "items = AgainAndAgain(my_generator2, 100, nbItems=3)\n",
    "for i in items: print(i)\n",
    "for i in items: print(i)"
   ]
  },
  {
   "cell_type": "markdown",
   "metadata": {},
   "source": [
    "The for loop will automaticaly call the `__iter__` method of `AgainAndAgain`, so the code above is equivalent to:"
   ]
  },
  {
   "cell_type": "code",
   "execution_count": 66,
   "metadata": {},
   "outputs": [
    {
     "name": "stdout",
     "output_type": "stream",
     "text": [
      "100\n",
      "101\n",
      "102\n",
      "100\n",
      "101\n",
      "102\n"
     ]
    }
   ],
   "source": [
    "items = AgainAndAgain(my_generator2, 100, nbItems=3)\n",
    "for i in iter(items): print(i)\n",
    "for i in iter(items): print(i)"
   ]
  },
  {
   "cell_type": "markdown",
   "metadata": {},
   "source": [
    "So in the case you want to iterate the `AgainAndAgain` instance, you will need to convert it to a "
   ]
  },
  {
   "cell_type": "markdown",
   "metadata": {},
   "source": [
    "# Breaking a for loop - do we continue or restart the generator/iterator ?"
   ]
  },
  {
   "cell_type": "markdown",
   "metadata": {},
   "source": [
    "**The answer:** using an instance of a generator/iterator, we continue iterating"
   ]
  },
  {
   "cell_type": "markdown",
   "metadata": {},
   "source": [
    "In the case you use a for loop to iterate a generator instance or an iterator instance, you will be able to continue:"
   ]
  },
  {
   "cell_type": "code",
   "execution_count": 14,
   "metadata": {},
   "outputs": [
    {
     "name": "stdout",
     "output_type": "stream",
     "text": [
      "0\n",
      "1\n"
     ]
    }
   ],
   "source": [
    "items = my_generator2(0)\n",
    "for i in items:\n",
    "    print(i)\n",
    "    break\n",
    "for i in items:\n",
    "    print(i)\n",
    "    break"
   ]
  },
  {
   "cell_type": "markdown",
   "metadata": {},
   "source": [
    "But, in order to be consistent with the list behavior which restart at each for loop begin:"
   ]
  },
  {
   "cell_type": "code",
   "execution_count": 15,
   "metadata": {},
   "outputs": [
    {
     "name": "stdout",
     "output_type": "stream",
     "text": [
      "0\n",
      "0\n"
     ]
    }
   ],
   "source": [
    "a = [0, 1, 2]\n",
    "for i in a:\n",
    "    print(i)\n",
    "    break\n",
    "for i in a:\n",
    "    print(i)\n",
    "    break"
   ]
  },
  {
   "cell_type": "markdown",
   "metadata": {},
   "source": [
    "you can wrap the generator in `AgainAndAgain`:"
   ]
  },
  {
   "cell_type": "code",
   "execution_count": 16,
   "metadata": {},
   "outputs": [
    {
     "name": "stdout",
     "output_type": "stream",
     "text": [
      "0\n",
      "0\n"
     ]
    }
   ],
   "source": [
    "items = AgainAndAgain(my_generator2, 0)\n",
    "for i in items:\n",
    "    print(i)\n",
    "    break\n",
    "for i in items:\n",
    "    print(i)\n",
    "    break"
   ]
  },
  {
   "cell_type": "markdown",
   "metadata": {},
   "source": [
    "## TODO Warning we need to call itemsGenerator = iter(items) each time we want to restart using next(). And the for loop automaticaly call next"
   ]
  },
  {
   "cell_type": "code",
   "execution_count": 47,
   "metadata": {},
   "outputs": [],
   "source": [
    "items = AgainAndAgain(my_generator2, 3)"
   ]
  },
  {
   "cell_type": "code",
   "execution_count": 46,
   "metadata": {},
   "outputs": [
    {
     "name": "stdout",
     "output_type": "stream",
     "text": [
      "3\n",
      "3\n"
     ]
    }
   ],
   "source": [
    "for i in items:\n",
    "    print(i)\n",
    "    break\n",
    "for i in items:\n",
    "    print(i)\n",
    "    break"
   ]
  },
  {
   "cell_type": "code",
   "execution_count": 62,
   "metadata": {},
   "outputs": [],
   "source": [
    "itemsGenerator = iter(items)"
   ]
  },
  {
   "cell_type": "code",
   "execution_count": 65,
   "metadata": {},
   "outputs": [
    {
     "name": "stdout",
     "output_type": "stream",
     "text": [
      "5\n"
     ]
    }
   ],
   "source": [
    "print(next(itemsGenerator))"
   ]
  },
  {
   "cell_type": "markdown",
   "metadata": {},
   "source": [
    "Other sources:\n",
    " * <https://stackoverflow.com/questions/2776829/difference-between-pythons-generators-and-iterators/2776865#2776865>\n",
    " * <https://stackoverflow.com/questions/19151/build-a-basic-python-iterator>"
   ]
  },
  {
   "cell_type": "code",
   "execution_count": null,
   "metadata": {},
   "outputs": [],
   "source": []
  },
  {
   "cell_type": "markdown",
   "metadata": {},
   "source": [
    "Yo,\n",
    "\n",
    "J'ai lu ton tuto sur les itérateurs et les générateurs, et j'ai quelques remarques. Déjà, j'ai trouvé que globalement c'était très bien parce que ça met bien en évidence leur utilisation concrète et les avantages (qui ne sont pas évidents à première vue) à les utiliser.\n",
    "\n",
    "Il y a quelques trucs que tu pourrais améliorer cependant :\n",
    "\n",
    "    Est-ce que yield est forcément lié à un générateur ? Tu peux avoir un yield dans autre chose qu'un générateur ? Même question pour next ? Peut-être plus insister sur le fait que yield et next sont liés.\n",
    "    Est-ce que les itérateurs/générateurs sont liés à Python uniquement ou ce sont des objets qu'on peut retrouver dans d'autres langages ?\n",
    "    J'ai l'impression que c'est pas encore totalement clair dans le tuto que quand tu parcours une liste, tu charges tout en RAM (si je ne m'abuse) et que du coup ça peut être pbtique dans différents cas de figure\n",
    "    Si j'ai bien compris, un générateur est un itérateur, mais plus high-level, c'est bien ça ? Et le niveau encore au-dessus, ce sont les listes par exemple ? Une liste est un itérateur donc (c'est juste qu'on ne voit pas que derrière, il y a la classe, le __iter__, le __next__...) ?\n",
    "    À quoi sert le __iter__ dans un itérateur ?\n",
    "    Peut-être qu'à la toute fin, il serait pas mal de donner un exemple où tu as plusieurs paramétrisations différentes pour différentes instances du même générateur (tu dis plus haut que ça peut poser un souci et que faire un itérateur d'itérateur, ça résout tout)\n",
    "    Il y a quelques coquilles au fil de la lecture, je pourrai te les indiquer quand on se verra IRL\n",
    "\n",
    "++"
   ]
  },
  {
   "cell_type": "code",
   "execution_count": null,
   "metadata": {},
   "outputs": [],
   "source": []
  },
  {
   "cell_type": "code",
   "execution_count": null,
   "metadata": {},
   "outputs": [],
   "source": []
  }
 ],
 "metadata": {
  "kernelspec": {
   "display_name": "Python 3",
   "language": "python",
   "name": "python3"
  },
  "language_info": {
   "codemirror_mode": {
    "name": "ipython",
    "version": 3
   },
   "file_extension": ".py",
   "mimetype": "text/x-python",
   "name": "python",
   "nbconvert_exporter": "python",
   "pygments_lexer": "ipython3",
   "version": "3.6.6"
  }
 },
 "nbformat": 4,
 "nbformat_minor": 2
}
