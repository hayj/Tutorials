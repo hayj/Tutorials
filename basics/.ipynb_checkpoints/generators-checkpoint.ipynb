{
 "cells": [
  {
   "cell_type": "markdown",
   "metadata": {},
   "source": [
    "# What are generators and iterators in Python ?"
   ]
  },
  {
   "cell_type": "markdown",
   "metadata": {},
   "source": [
    " > Why do I want iterators/generators, why not use lists? - because I can process data that is too big for memory.\n",
    "\n",
    "Source: <https://www.reddit.com/r/Python/comments/40idba/easy_way_to_make_an_iterator_from_a_generator_in/>"
   ]
  },
  {
   "cell_type": "markdown",
   "metadata": {},
   "source": [
    "## Generators"
   ]
  },
  {
   "cell_type": "markdown",
   "metadata": {},
   "source": [
    "We define a simple generator (a function which yield elements):"
   ]
  },
  {
   "cell_type": "code",
   "execution_count": 1,
   "metadata": {},
   "outputs": [],
   "source": [
    "def my_generator():\n",
    "    for i in range(3):\n",
    "        yield i"
   ]
  },
  {
   "cell_type": "markdown",
   "metadata": {},
   "source": [
    "When calling this function, the generator will return several values and continue until it will reach the end. We can iterate it, either using a for loop:"
   ]
  },
  {
   "cell_type": "code",
   "execution_count": 2,
   "metadata": {},
   "outputs": [
    {
     "name": "stdout",
     "output_type": "stream",
     "text": [
      "0\n",
      "1\n",
      "2\n"
     ]
    }
   ],
   "source": [
    "items = my_generator()\n",
    "for item in items:\n",
    "    print(item)"
   ]
  },
  {
   "cell_type": "markdown",
   "metadata": {},
   "source": [
    "Or using the next function:"
   ]
  },
  {
   "cell_type": "code",
   "execution_count": 14,
   "metadata": {},
   "outputs": [
    {
     "name": "stdout",
     "output_type": "stream",
     "text": [
      "0\n",
      "1\n",
      "2\n"
     ]
    }
   ],
   "source": [
    "items = my_generator()\n",
    "hasMoreItems = True\n",
    "while hasMoreItems:\n",
    "    try:\n",
    "        item = next(items)\n",
    "        print(item)\n",
    "    except StopIteration:\n",
    "        hasMoreItems = False"
   ]
  },
  {
   "cell_type": "markdown",
   "metadata": {},
   "source": [
    "In that case we see the value of the `yield` statement: the generator funct will stop at each `yield` until `next` is called by the user (it can take a long time between each `next` call, so all items wait to be generated on-the-fly)."
   ]
  },
  {
   "cell_type": "markdown",
   "metadata": {},
   "source": [
    "This way to iterate the generator (using the `next` call) is useful in cases you want to get next items at very specifics steps. For example if you need next items only when you receive a specific request and if this request contains the specific word \"a\": you just need to keep the `items` instance of the generator and call the next item when necessary."
   ]
  },
  {
   "cell_type": "markdown",
   "metadata": {},
   "source": [
    "## Iterators"
   ]
  },
  {
   "cell_type": "markdown",
   "metadata": {},
   "source": [
    "We define an iterator class which only need to implement the `__iter__` and `__next__` methods:"
   ]
  },
  {
   "cell_type": "code",
   "execution_count": 4,
   "metadata": {},
   "outputs": [],
   "source": [
    "class MyIterator:\n",
    "    def __init__(self):\n",
    "        self.current = -1\n",
    "        self.maximum = 2\n",
    "    def __iter__(self):\n",
    "        return self\n",
    "    def __next__(self): # next(self) in Python 2\n",
    "        if self.current >= self.maximum:\n",
    "            raise StopIteration\n",
    "        else:\n",
    "            self.current += 1\n",
    "            return self.current"
   ]
  },
  {
   "cell_type": "markdown",
   "metadata": {},
   "source": [
    "The class doesn't yield anything but return the next item each time the user of an instance of this class call the `__next__` method. An iterator class is usefull when you need to **provide specific methods** like `def get_current(self): return self.current`."
   ]
  },
  {
   "cell_type": "markdown",
   "metadata": {},
   "source": [
    "And we iterate it the same way:"
   ]
  },
  {
   "cell_type": "code",
   "execution_count": 15,
   "metadata": {},
   "outputs": [
    {
     "name": "stdout",
     "output_type": "stream",
     "text": [
      "0\n",
      "1\n",
      "2\n",
      "0\n",
      "1\n",
      "2\n"
     ]
    }
   ],
   "source": [
    "# Using a for loop:\n",
    "items = MyIterator()\n",
    "for item in items:\n",
    "    print(item)\n",
    "# Using the next function:\n",
    "items = MyIterator()\n",
    "hasMoreItems = True\n",
    "while hasMoreItems:\n",
    "    try:\n",
    "        item = next(items)\n",
    "        print(item)\n",
    "    except StopIteration:\n",
    "        hasMoreItems = False"
   ]
  },
  {
   "cell_type": "markdown",
   "metadata": {},
   "source": [
    "## More explanations"
   ]
  },
  {
   "cell_type": "markdown",
   "metadata": {},
   "source": [
    "Generators and iterators are usefull to have a lazy list of items, which mean each item is generated and returned on-the-fly only when the user need it. If you have a infinite list of items, you no more need to generate it before, but use a generator which works as a Python list in a for loop. An other advantage is that if you need to generate items, you can just define a generator and use the `yield` statement instead of storing each item in a list and return it at the very end of the function. In the case of an iterator, it is even more relebvant when you need to interact with the iterator during the generation of items (this can be done using the \"next\" iteration way)."
   ]
  },
  {
   "cell_type": "markdown",
   "metadata": {},
   "source": [
    "## Convert a generator to a list"
   ]
  },
  {
   "cell_type": "markdown",
   "metadata": {},
   "source": [
    "You basicaly cannot access to specific items without iterate a generator (or an iterator):"
   ]
  },
  {
   "cell_type": "code",
   "execution_count": 6,
   "metadata": {},
   "outputs": [
    {
     "ename": "TypeError",
     "evalue": "'generator' object is not subscriptable",
     "output_type": "error",
     "traceback": [
      "\u001b[0;31m---------------------------------------------------------------------------\u001b[0m",
      "\u001b[0;31mTypeError\u001b[0m                                 Traceback (most recent call last)",
      "\u001b[0;32m<ipython-input-6-bb3d7bf11f41>\u001b[0m in \u001b[0;36m<module>\u001b[0;34m()\u001b[0m\n\u001b[1;32m      1\u001b[0m \u001b[0mitems\u001b[0m \u001b[0;34m=\u001b[0m \u001b[0mmy_generator\u001b[0m\u001b[0;34m(\u001b[0m\u001b[0;34m)\u001b[0m\u001b[0;34m\u001b[0m\u001b[0m\n\u001b[0;32m----> 2\u001b[0;31m \u001b[0mprint\u001b[0m\u001b[0;34m(\u001b[0m\u001b[0mitems\u001b[0m\u001b[0;34m[\u001b[0m\u001b[0;36m1\u001b[0m\u001b[0;34m]\u001b[0m\u001b[0;34m)\u001b[0m\u001b[0;34m\u001b[0m\u001b[0m\n\u001b[0m",
      "\u001b[0;31mTypeError\u001b[0m: 'generator' object is not subscriptable"
     ]
    }
   ],
   "source": [
    "items = my_generator()\n",
    "print(items[1])"
   ]
  },
  {
   "cell_type": "markdown",
   "metadata": {},
   "source": [
    "But you can cast the generator instance to a list:"
   ]
  },
  {
   "cell_type": "code",
   "execution_count": 7,
   "metadata": {},
   "outputs": [
    {
     "name": "stdout",
     "output_type": "stream",
     "text": [
      "1\n"
     ]
    }
   ],
   "source": [
    "items = list(my_generator())\n",
    "print(items[1])"
   ]
  },
  {
   "cell_type": "markdown",
   "metadata": {},
   "source": [
    "The problem is that the cast will consum all items, which can **take a long time** (depending on your items generation behind) and **maybe doesn't fit in RAM** (in case the total weight or your items is > 50Go for example)."
   ]
  },
  {
   "cell_type": "markdown",
   "metadata": {},
   "source": [
    "## We cannot iterate several times"
   ]
  },
  {
   "cell_type": "markdown",
   "metadata": {},
   "source": [
    "If you try to **iterate several time** a generator (or an iterator) instance, you will get only one batch of items:"
   ]
  },
  {
   "cell_type": "code",
   "execution_count": 8,
   "metadata": {},
   "outputs": [
    {
     "name": "stdout",
     "output_type": "stream",
     "text": [
      "0\n",
      "1\n",
      "2\n"
     ]
    }
   ],
   "source": [
    "items = my_generator()\n",
    "for i in items: print(i)\n",
    "for i in items: print(i)"
   ]
  },
  {
   "cell_type": "markdown",
   "metadata": {},
   "source": [
    "The same for the iterator:"
   ]
  },
  {
   "cell_type": "code",
   "execution_count": 9,
   "metadata": {},
   "outputs": [
    {
     "name": "stdout",
     "output_type": "stream",
     "text": [
      "0\n",
      "1\n",
      "2\n"
     ]
    }
   ],
   "source": [
    "items = MyIterator()\n",
    "for i in items: print(i)\n",
    "for i in items: print(i)"
   ]
  },
  {
   "cell_type": "markdown",
   "metadata": {},
   "source": [
    "The solution is **use the generator function** (or the iterator init) instead of the instance:"
   ]
  },
  {
   "cell_type": "code",
   "execution_count": 10,
   "metadata": {},
   "outputs": [
    {
     "name": "stdout",
     "output_type": "stream",
     "text": [
      "0\n",
      "1\n",
      "2\n",
      "0\n",
      "1\n",
      "2\n"
     ]
    }
   ],
   "source": [
    "for i in my_generator(): print(i)\n",
    "for i in my_generator(): print(i)"
   ]
  },
  {
   "cell_type": "markdown",
   "metadata": {},
   "source": [
    "But imagine you need to **give your generator to a specific function** (from a specific library) which need to **pass several times over all items**. Most libraries take a generator instance (not the generator function itself), so it won't work in that case. For instance, [Doc2Vec from Gensim](https://radimrehurek.com/gensim/models/doc2vec.html) init take `documents` which is an iterable. If you stream your documents from disk, your genererator need to be multi-iterable for the algorithm to pass all docs several times. Moreover, imagine your generator take parameters:"
   ]
  },
  {
   "cell_type": "code",
   "execution_count": 11,
   "metadata": {},
   "outputs": [],
   "source": [
    "def my_generator2(start, nbItems=10):\n",
    "    for i in range(start, start + nbItems):\n",
    "        yield i"
   ]
  },
  {
   "cell_type": "markdown",
   "metadata": {},
   "source": [
    "All instances of your generator will be **specific to the params you give**: `items = my_generator2(100)`, `items = my_generator2(200)`... The solution is to **wrap your generator** or iterator in a iterator class which will retain args and kwargs. Here the class I use:"
   ]
  },
  {
   "cell_type": "code",
   "execution_count": 20,
   "metadata": {},
   "outputs": [],
   "source": [
    "class AgainAndAgain():\n",
    "    def __init__(self, generator_func, *args, **kwargs):\n",
    "        self.generator_func = generator_func\n",
    "        self.args = args\n",
    "        self.kwargs = kwargs\n",
    "    def __iter__(self):\n",
    "        return self.generator_func(*self.args, **self.kwargs)"
   ]
  },
  {
   "cell_type": "markdown",
   "metadata": {},
   "source": [
    "Source: <https://www.reddit.com/r/Python/comments/40idba/easy_way_to_make_an_iterator_from_a_generator_in/>"
   ]
  },
  {
   "cell_type": "markdown",
   "metadata": {},
   "source": [
    "Now you can make any generator and iterator **multi-iterable** by giving the generator funct (or iterator class) and all args/kwargs:"
   ]
  },
  {
   "cell_type": "code",
   "execution_count": 13,
   "metadata": {},
   "outputs": [
    {
     "name": "stdout",
     "output_type": "stream",
     "text": [
      "100\n",
      "101\n",
      "102\n",
      "100\n",
      "101\n",
      "102\n"
     ]
    }
   ],
   "source": [
    "items = AgainAndAgain(my_generator2, 100, nbItems=3)\n",
    "for i in items: print(i)\n",
    "for i in items: print(i)"
   ]
  },
  {
   "cell_type": "markdown",
   "metadata": {},
   "source": [
    "# Breaking a for loop - do we continue or restart the generator/iterator ?"
   ]
  },
  {
   "cell_type": "markdown",
   "metadata": {},
   "source": [
    "**The answer:** you continue"
   ]
  },
  {
   "cell_type": "markdown",
   "metadata": {},
   "source": [
    "In the case you use a for loop to iterate a generator instance or an iterator instance, you will be able to continue:"
   ]
  },
  {
   "cell_type": "code",
   "execution_count": 17,
   "metadata": {},
   "outputs": [
    {
     "name": "stdout",
     "output_type": "stream",
     "text": [
      "0\n",
      "1\n"
     ]
    }
   ],
   "source": [
    "items = my_generator2(0)\n",
    "for i in items:\n",
    "    print(i)\n",
    "    break\n",
    "for i in items:\n",
    "    print(i)\n",
    "    break"
   ]
  },
  {
   "cell_type": "markdown",
   "metadata": {},
   "source": [
    "But, in order to be consistent with the list behavior which restart at each for loop begin:"
   ]
  },
  {
   "cell_type": "code",
   "execution_count": 18,
   "metadata": {},
   "outputs": [
    {
     "name": "stdout",
     "output_type": "stream",
     "text": [
      "0\n",
      "0\n"
     ]
    }
   ],
   "source": [
    "a = [0, 1, 2]\n",
    "for i in a:\n",
    "    print(i)\n",
    "    break\n",
    "for i in a:\n",
    "    print(i)\n",
    "    break"
   ]
  },
  {
   "cell_type": "markdown",
   "metadata": {},
   "source": [
    "you can wrap the generator in `AgainAndAgain`:"
   ]
  },
  {
   "cell_type": "code",
   "execution_count": 21,
   "metadata": {},
   "outputs": [
    {
     "name": "stdout",
     "output_type": "stream",
     "text": [
      "0\n",
      "0\n"
     ]
    }
   ],
   "source": [
    "items = AgainAndAgain(my_generator2, 0)\n",
    "for i in items:\n",
    "    print(i)\n",
    "    break\n",
    "for i in items:\n",
    "    print(i)\n",
    "    break"
   ]
  },
  {
   "cell_type": "markdown",
   "metadata": {},
   "source": [
    "Other sources:\n",
    " * <https://stackoverflow.com/questions/2776829/difference-between-pythons-generators-and-iterators/2776865#2776865>\n",
    " * <https://stackoverflow.com/questions/19151/build-a-basic-python-iterator>"
   ]
  }
 ],
 "metadata": {
  "kernelspec": {
   "display_name": "Python 3",
   "language": "python",
   "name": "python3"
  },
  "language_info": {
   "codemirror_mode": {
    "name": "ipython",
    "version": 3
   },
   "file_extension": ".py",
   "mimetype": "text/x-python",
   "name": "python",
   "nbconvert_exporter": "python",
   "pygments_lexer": "ipython3",
   "version": "3.6.6"
  }
 },
 "nbformat": 4,
 "nbformat_minor": 2
}
